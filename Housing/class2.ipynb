{
 "cells": [
  {
   "cell_type": "code",
   "execution_count": 1,
   "id": "8035b9ce-c3bf-43fa-982f-3f80e49de950",
   "metadata": {},
   "outputs": [],
   "source": [
    "#2D array"
   ]
  },
  {
   "cell_type": "code",
   "execution_count": 2,
   "id": "0eaf785e-381a-418c-858a-8743005cba6e",
   "metadata": {},
   "outputs": [],
   "source": [
    "import numpy as np"
   ]
  },
  {
   "cell_type": "code",
   "execution_count": 3,
   "id": "28a72fe0-c9e3-44cc-a54d-225b5cb5ee5d",
   "metadata": {},
   "outputs": [],
   "source": [
    "b=[2,5,7,9,1]\n",
    "c=[10,20,30,40,50]"
   ]
  },
  {
   "cell_type": "code",
   "execution_count": 4,
   "id": "a05e144e-ebe6-44f4-a17b-156f3a297409",
   "metadata": {},
   "outputs": [],
   "source": [
    "a= np.array([b,c])"
   ]
  },
  {
   "cell_type": "code",
   "execution_count": 5,
   "id": "2424e350-f02a-410e-91cd-ba9bc79c9b6c",
   "metadata": {},
   "outputs": [
    {
     "data": {
      "text/plain": [
       "array([[ 2,  5,  7,  9,  1],\n",
       "       [10, 20, 30, 40, 50]])"
      ]
     },
     "execution_count": 5,
     "metadata": {},
     "output_type": "execute_result"
    }
   ],
   "source": [
    "a"
   ]
  },
  {
   "cell_type": "code",
   "execution_count": 6,
   "id": "57b7aaec-ad3b-4837-babf-ed297e9f0266",
   "metadata": {},
   "outputs": [
    {
     "data": {
      "text/plain": [
       "(2, 5)"
      ]
     },
     "execution_count": 6,
     "metadata": {},
     "output_type": "execute_result"
    }
   ],
   "source": [
    "a.shape"
   ]
  },
  {
   "cell_type": "code",
   "execution_count": 7,
   "id": "4df77b14-99b5-4da5-a39b-bd9bebbcb75a",
   "metadata": {},
   "outputs": [
    {
     "data": {
      "text/plain": [
       "array([[ 2, 10],\n",
       "       [ 5, 20],\n",
       "       [ 7, 30],\n",
       "       [ 9, 40],\n",
       "       [ 1, 50]])"
      ]
     },
     "execution_count": 7,
     "metadata": {},
     "output_type": "execute_result"
    }
   ],
   "source": [
    "a.transpose()"
   ]
  },
  {
   "cell_type": "code",
   "execution_count": 8,
   "id": "f166e23f-b8d9-4e38-8d43-45d25281ac3c",
   "metadata": {},
   "outputs": [
    {
     "data": {
      "text/plain": [
       "array([[ 2,  5],\n",
       "       [ 7,  9],\n",
       "       [ 1, 10],\n",
       "       [20, 30],\n",
       "       [40, 50]])"
      ]
     },
     "execution_count": 8,
     "metadata": {},
     "output_type": "execute_result"
    }
   ],
   "source": [
    "a.reshape(5,2)"
   ]
  },
  {
   "cell_type": "code",
   "execution_count": 9,
   "id": "b76f944a-38b0-45b8-8d0e-aca3e95a74d4",
   "metadata": {},
   "outputs": [],
   "source": [
    "#Zeros"
   ]
  },
  {
   "cell_type": "raw",
   "id": "6ce36b70-ec89-45e5-ad4f-318028248fe1",
   "metadata": {},
   "source": [
    "np.zeros((5,5))"
   ]
  },
  {
   "cell_type": "code",
   "execution_count": 10,
   "id": "9bfeb70a-f386-4398-ac8d-2766df52e55b",
   "metadata": {},
   "outputs": [
    {
     "data": {
      "text/plain": [
       "array([[1., 1., 1., 1., 1., 1., 1., 1.],\n",
       "       [1., 1., 1., 1., 1., 1., 1., 1.],\n",
       "       [1., 1., 1., 1., 1., 1., 1., 1.],\n",
       "       [1., 1., 1., 1., 1., 1., 1., 1.],\n",
       "       [1., 1., 1., 1., 1., 1., 1., 1.],\n",
       "       [1., 1., 1., 1., 1., 1., 1., 1.]])"
      ]
     },
     "execution_count": 10,
     "metadata": {},
     "output_type": "execute_result"
    }
   ],
   "source": [
    "np.ones((6,8))"
   ]
  },
  {
   "cell_type": "code",
   "execution_count": 11,
   "id": "93a59a03-122f-4860-8df4-9a3c1cd79af8",
   "metadata": {},
   "outputs": [
    {
     "data": {
      "text/plain": [
       "array([[1., 0., 0., 0., 0.],\n",
       "       [0., 1., 0., 0., 0.],\n",
       "       [0., 0., 1., 0., 0.],\n",
       "       [0., 0., 0., 1., 0.],\n",
       "       [0., 0., 0., 0., 1.]])"
      ]
     },
     "execution_count": 11,
     "metadata": {},
     "output_type": "execute_result"
    }
   ],
   "source": [
    "np.eye(5)"
   ]
  },
  {
   "cell_type": "code",
   "execution_count": 12,
   "id": "8580c35e-eba3-4c06-a343-a953032f17b8",
   "metadata": {},
   "outputs": [
    {
     "data": {
      "text/plain": [
       "array([  1.,  12.,  23.,  34.,  45.,  56.,  67.,  78.,  89., 100.])"
      ]
     },
     "execution_count": 12,
     "metadata": {},
     "output_type": "execute_result"
    }
   ],
   "source": [
    "np.linspace(1,100,10)"
   ]
  },
  {
   "cell_type": "code",
   "execution_count": 13,
   "id": "cd3742c0-678a-43b2-a01d-a5280bd078ca",
   "metadata": {},
   "outputs": [
    {
     "data": {
      "text/plain": [
       "array([ 1, 11, 21, 31, 41, 51, 61, 71, 81, 91])"
      ]
     },
     "execution_count": 13,
     "metadata": {},
     "output_type": "execute_result"
    }
   ],
   "source": [
    "np.arange(1,100,10)"
   ]
  },
  {
   "cell_type": "code",
   "execution_count": 14,
   "id": "9b78ad46-9d91-4aec-9b1a-7e0bb233e58e",
   "metadata": {},
   "outputs": [],
   "source": [
    "#random"
   ]
  },
  {
   "cell_type": "code",
   "execution_count": 15,
   "id": "87a9afc5-6247-4395-b50f-23f33a2a62d8",
   "metadata": {},
   "outputs": [
    {
     "data": {
      "text/plain": [
       "array([ 0.62728755,  1.02856759, -0.48245272,  1.53297958, -0.19646206])"
      ]
     },
     "execution_count": 15,
     "metadata": {},
     "output_type": "execute_result"
    }
   ],
   "source": [
    " np.random.randn(5)"
   ]
  },
  {
   "cell_type": "code",
   "execution_count": 16,
   "id": "8e13e915-25cc-4142-aa24-2722eb5fd092",
   "metadata": {},
   "outputs": [
    {
     "data": {
      "text/plain": [
       "array([0.48238409, 0.44748255, 0.35560463, 0.39771171])"
      ]
     },
     "execution_count": 16,
     "metadata": {},
     "output_type": "execute_result"
    }
   ],
   "source": [
    "np.random.rand(4)"
   ]
  },
  {
   "cell_type": "code",
   "execution_count": 17,
   "id": "77b6568c-90a1-42a4-8974-2b1787548366",
   "metadata": {},
   "outputs": [
    {
     "data": {
      "text/plain": [
       "array([[0.68256494, 0.18483281, 0.40463132, 0.00788205, 0.39457364],\n",
       "       [0.2616309 , 0.63524713, 0.91311947, 0.83741565, 0.97363251],\n",
       "       [0.51677906, 0.06069164, 0.81780248, 0.00642253, 0.84674955],\n",
       "       [0.78448411, 0.05504845, 0.28419464, 0.73096163, 0.55349179],\n",
       "       [0.10666283, 0.09060256, 0.69954233, 0.85839539, 0.01914723]])"
      ]
     },
     "execution_count": 17,
     "metadata": {},
     "output_type": "execute_result"
    }
   ],
   "source": [
    "np.random.rand(5,5)"
   ]
  },
  {
   "cell_type": "code",
   "execution_count": 18,
   "id": "b2fefcdb-4258-4a14-b669-a9add21d9320",
   "metadata": {},
   "outputs": [],
   "source": [
    "#Pandas"
   ]
  },
  {
   "cell_type": "code",
   "execution_count": 19,
   "id": "6a80d996-9b3d-42e2-b58e-560170889fa0",
   "metadata": {},
   "outputs": [],
   "source": [
    "l10=[90,70,67,89,100]"
   ]
  },
  {
   "cell_type": "code",
   "execution_count": 20,
   "id": "3b2f80b7-13f6-4151-99a8-6f50533655e3",
   "metadata": {},
   "outputs": [],
   "source": [
    "import pandas as pd"
   ]
  },
  {
   "cell_type": "code",
   "execution_count": 21,
   "id": "6fe39b02-ff25-4048-89ac-06990ea8b92c",
   "metadata": {},
   "outputs": [],
   "source": [
    "exam=pd.Series(data=l10,index=['Alex','chinnu','yashu','harshu','preethi'])"
   ]
  },
  {
   "cell_type": "code",
   "execution_count": 22,
   "id": "2b8730a0-7ce1-4bc8-add3-f5dee7bcb2fe",
   "metadata": {},
   "outputs": [
    {
     "data": {
      "text/plain": [
       "Alex        90\n",
       "chinnu      70\n",
       "yashu       67\n",
       "harshu      89\n",
       "preethi    100\n",
       "dtype: int64"
      ]
     },
     "execution_count": 22,
     "metadata": {},
     "output_type": "execute_result"
    }
   ],
   "source": [
    "exam"
   ]
  },
  {
   "cell_type": "code",
   "execution_count": 23,
   "id": "be2a452e-ddb2-4863-8c59-627a57eae7cd",
   "metadata": {},
   "outputs": [
    {
     "data": {
      "text/plain": [
       "pandas.core.series.Series"
      ]
     },
     "execution_count": 23,
     "metadata": {},
     "output_type": "execute_result"
    }
   ],
   "source": [
    "type(exam)"
   ]
  },
  {
   "cell_type": "code",
   "execution_count": 24,
   "id": "ba17411c-17c2-405a-ab1d-0cc64614d555",
   "metadata": {},
   "outputs": [],
   "source": [
    "exam2= pd.Series(data=[100,78,89,29,99],index=['harry','saatvik','yashu','harshu','dipta'])"
   ]
  },
  {
   "cell_type": "code",
   "execution_count": 25,
   "id": "c0e5575d-0f09-4289-b515-9e35fd4166b8",
   "metadata": {},
   "outputs": [],
   "source": [
    "result_1=exam+exam2"
   ]
  },
  {
   "cell_type": "code",
   "execution_count": 26,
   "id": "b9adbd6f-b6b4-4be8-be4f-da9ce305248e",
   "metadata": {},
   "outputs": [
    {
     "data": {
      "text/plain": [
       "Alex         NaN\n",
       "chinnu       NaN\n",
       "dipta        NaN\n",
       "harry        NaN\n",
       "harshu     118.0\n",
       "preethi      NaN\n",
       "saatvik      NaN\n",
       "yashu      156.0\n",
       "dtype: float64"
      ]
     },
     "execution_count": 26,
     "metadata": {},
     "output_type": "execute_result"
    }
   ],
   "source": [
    "result_1"
   ]
  },
  {
   "cell_type": "code",
   "execution_count": 27,
   "id": "e2fc7ff1-24d9-4543-89e6-75543f44a92e",
   "metadata": {},
   "outputs": [
    {
     "data": {
      "text/plain": [
       "274.0"
      ]
     },
     "execution_count": 27,
     "metadata": {},
     "output_type": "execute_result"
    }
   ],
   "source": [
    "result_1.sum()"
   ]
  },
  {
   "cell_type": "code",
   "execution_count": 28,
   "id": "41992ba0-2b39-43e8-9fcd-ad33f5bf2a52",
   "metadata": {},
   "outputs": [
    {
     "data": {
      "text/plain": [
       "6"
      ]
     },
     "execution_count": 28,
     "metadata": {},
     "output_type": "execute_result"
    }
   ],
   "source": [
    "result_1.isnull().sum()"
   ]
  },
  {
   "cell_type": "raw",
   "id": "9bc7fb64-7d25-4d3c-8896-7c565ebe2e3c",
   "metadata": {},
   "source": [
    "result_1.dropna()"
   ]
  },
  {
   "cell_type": "code",
   "execution_count": 29,
   "id": "b2f4521e-0295-4772-865e-ddcd1e3f35ac",
   "metadata": {},
   "outputs": [
    {
     "data": {
      "text/plain": [
       "harshu    118.0\n",
       "yashu     156.0\n",
       "dtype: float64"
      ]
     },
     "execution_count": 29,
     "metadata": {},
     "output_type": "execute_result"
    }
   ],
   "source": [
    "result_1.dropna()"
   ]
  },
  {
   "cell_type": "code",
   "execution_count": 30,
   "id": "80dded7c-665a-4cea-9511-8f054f789eb8",
   "metadata": {},
   "outputs": [],
   "source": [
    "# array to series"
   ]
  },
  {
   "cell_type": "code",
   "execution_count": 31,
   "id": "0bb151bc-d983-4c6e-8b44-58183c7d2a68",
   "metadata": {},
   "outputs": [],
   "source": [
    "d=np.array([45,90,135,180])"
   ]
  },
  {
   "cell_type": "code",
   "execution_count": 32,
   "id": "99ce1a81-cb9c-4baa-bc4a-a3f0c5d05d00",
   "metadata": {},
   "outputs": [
    {
     "data": {
      "text/plain": [
       "array([ 45,  90, 135, 180])"
      ]
     },
     "execution_count": 32,
     "metadata": {},
     "output_type": "execute_result"
    }
   ],
   "source": [
    "d"
   ]
  },
  {
   "cell_type": "code",
   "execution_count": 33,
   "id": "9201defd-8913-485c-988d-a80a32d3f711",
   "metadata": {},
   "outputs": [
    {
     "data": {
      "text/plain": [
       "0     45\n",
       "1     90\n",
       "2    135\n",
       "3    180\n",
       "dtype: int32"
      ]
     },
     "execution_count": 33,
     "metadata": {},
     "output_type": "execute_result"
    }
   ],
   "source": [
    "pd.Series(data=d)"
   ]
  },
  {
   "cell_type": "code",
   "execution_count": 34,
   "id": "13f9f0ed-64db-4afc-ba22-fd2a89a9fd9e",
   "metadata": {},
   "outputs": [],
   "source": [
    "#Dictionary to series"
   ]
  },
  {
   "cell_type": "code",
   "execution_count": 35,
   "id": "e8e1a744-6359-44bf-93b2-2bb80d370266",
   "metadata": {},
   "outputs": [
    {
     "data": {
      "text/plain": [
       "Alex         NaN\n",
       "chinnu       NaN\n",
       "dipta        NaN\n",
       "harry        NaN\n",
       "harshu     118.0\n",
       "preethi      NaN\n",
       "saatvik      NaN\n",
       "yashu      156.0\n",
       "dtype: float64"
      ]
     },
     "execution_count": 35,
     "metadata": {},
     "output_type": "execute_result"
    }
   ],
   "source": [
    "result_1"
   ]
  },
  {
   "cell_type": "code",
   "execution_count": 36,
   "id": "68e1d480-4577-4afa-9b42-842f34869ce1",
   "metadata": {},
   "outputs": [
    {
     "data": {
      "text/plain": [
       "Alex       137.0\n",
       "chinnu     137.0\n",
       "dipta      137.0\n",
       "harry      137.0\n",
       "harshu     118.0\n",
       "preethi    137.0\n",
       "saatvik    137.0\n",
       "yashu      156.0\n",
       "dtype: float64"
      ]
     },
     "execution_count": 36,
     "metadata": {},
     "output_type": "execute_result"
    }
   ],
   "source": [
    "result_1.fillna(result_1.mean())"
   ]
  },
  {
   "cell_type": "code",
   "execution_count": 37,
   "id": "53ed5d13-4224-48f0-891a-2c45ace3ceda",
   "metadata": {},
   "outputs": [],
   "source": [
    "#DataFrame"
   ]
  },
  {
   "cell_type": "code",
   "execution_count": 38,
   "id": "7bd61eed-a8c2-47e5-8ecc-4a4829a2a1a0",
   "metadata": {},
   "outputs": [],
   "source": [
    "E=[[10,20,30,40,50],[11,22,33,44,55]]"
   ]
  },
  {
   "cell_type": "code",
   "execution_count": 39,
   "id": "54c6eb2c-7f80-4592-85d3-acca0bd5ceda",
   "metadata": {},
   "outputs": [
    {
     "data": {
      "text/html": [
       "<div>\n",
       "<style scoped>\n",
       "    .dataframe tbody tr th:only-of-type {\n",
       "        vertical-align: middle;\n",
       "    }\n",
       "\n",
       "    .dataframe tbody tr th {\n",
       "        vertical-align: top;\n",
       "    }\n",
       "\n",
       "    .dataframe thead th {\n",
       "        text-align: right;\n",
       "    }\n",
       "</style>\n",
       "<table border=\"1\" class=\"dataframe\">\n",
       "  <thead>\n",
       "    <tr style=\"text-align: right;\">\n",
       "      <th></th>\n",
       "      <th>Alex</th>\n",
       "      <th>chinnu</th>\n",
       "      <th>harshu</th>\n",
       "      <th>Yashu</th>\n",
       "      <th>Preethi</th>\n",
       "    </tr>\n",
       "  </thead>\n",
       "  <tbody>\n",
       "    <tr>\n",
       "      <th>Exam1</th>\n",
       "      <td>10</td>\n",
       "      <td>20</td>\n",
       "      <td>30</td>\n",
       "      <td>40</td>\n",
       "      <td>50</td>\n",
       "    </tr>\n",
       "    <tr>\n",
       "      <th>Exam2</th>\n",
       "      <td>11</td>\n",
       "      <td>22</td>\n",
       "      <td>33</td>\n",
       "      <td>44</td>\n",
       "      <td>55</td>\n",
       "    </tr>\n",
       "  </tbody>\n",
       "</table>\n",
       "</div>"
      ],
      "text/plain": [
       "       Alex  chinnu  harshu  Yashu  Preethi\n",
       "Exam1    10      20      30     40       50\n",
       "Exam2    11      22      33     44       55"
      ]
     },
     "execution_count": 39,
     "metadata": {},
     "output_type": "execute_result"
    }
   ],
   "source": [
    "pd.DataFrame(data=E,columns=['Alex','chinnu','harshu','Yashu','Preethi'],index=['Exam1','Exam2'])"
   ]
  },
  {
   "cell_type": "code",
   "execution_count": 40,
   "id": "b58d296c-e590-4cfd-82fc-df97f43570d3",
   "metadata": {},
   "outputs": [],
   "source": [
    "dict12={'Names':['Alex','chinnu','harshu','Yashu','Preethi'],\n",
    "        'Exam1':[24,45,56,67,78],\n",
    "        'Exam2':[34,56,78,90,np.nan]}"
   ]
  },
  {
   "cell_type": "code",
   "execution_count": 62,
   "id": "5df92132-b106-4038-9268-8504ddfd47f4",
   "metadata": {},
   "outputs": [],
   "source": [
    "df=pd.DataFrame(data=dict12)"
   ]
  },
  {
   "cell_type": "markdown",
   "id": "d8f684f2-30e0-478a-9c9f-5e5976142886",
   "metadata": {},
   "source": [
    "### head"
   ]
  },
  {
   "cell_type": "code",
   "execution_count": 43,
   "id": "650edf0f-9b64-43c3-98c3-aebe32bd1712",
   "metadata": {},
   "outputs": [
    {
     "data": {
      "text/html": [
       "<div>\n",
       "<style scoped>\n",
       "    .dataframe tbody tr th:only-of-type {\n",
       "        vertical-align: middle;\n",
       "    }\n",
       "\n",
       "    .dataframe tbody tr th {\n",
       "        vertical-align: top;\n",
       "    }\n",
       "\n",
       "    .dataframe thead th {\n",
       "        text-align: right;\n",
       "    }\n",
       "</style>\n",
       "<table border=\"1\" class=\"dataframe\">\n",
       "  <thead>\n",
       "    <tr style=\"text-align: right;\">\n",
       "      <th></th>\n",
       "      <th>Names</th>\n",
       "      <th>Exam1</th>\n",
       "      <th>Exam2</th>\n",
       "    </tr>\n",
       "  </thead>\n",
       "  <tbody>\n",
       "    <tr>\n",
       "      <th>0</th>\n",
       "      <td>Alex</td>\n",
       "      <td>24</td>\n",
       "      <td>34.0</td>\n",
       "    </tr>\n",
       "    <tr>\n",
       "      <th>1</th>\n",
       "      <td>chinnu</td>\n",
       "      <td>45</td>\n",
       "      <td>56.0</td>\n",
       "    </tr>\n",
       "  </tbody>\n",
       "</table>\n",
       "</div>"
      ],
      "text/plain": [
       "    Names  Exam1  Exam2\n",
       "0    Alex     24   34.0\n",
       "1  chinnu     45   56.0"
      ]
     },
     "execution_count": 43,
     "metadata": {},
     "output_type": "execute_result"
    }
   ],
   "source": [
    "df.head(2)"
   ]
  },
  {
   "cell_type": "code",
   "execution_count": 44,
   "id": "d21fabc3-4abb-4eba-a655-8a2c9068a132",
   "metadata": {},
   "outputs": [
    {
     "data": {
      "text/plain": [
       "pandas.core.series.Series"
      ]
     },
     "execution_count": 44,
     "metadata": {},
     "output_type": "execute_result"
    }
   ],
   "source": [
    "type(df['Names'])"
   ]
  },
  {
   "cell_type": "code",
   "execution_count": 45,
   "id": "ad5fb277-094e-48fa-b227-a60fb749001d",
   "metadata": {},
   "outputs": [
    {
     "data": {
      "text/plain": [
       "pandas.core.frame.DataFrame"
      ]
     },
     "execution_count": 45,
     "metadata": {},
     "output_type": "execute_result"
    }
   ],
   "source": [
    "type(df)"
   ]
  },
  {
   "cell_type": "code",
   "execution_count": 46,
   "id": "16d8db9a-9019-4a04-ab47-c5858b7a977c",
   "metadata": {},
   "outputs": [],
   "source": [
    "#tail"
   ]
  },
  {
   "cell_type": "code",
   "execution_count": 47,
   "id": "a6d04811-a2ff-48b9-8384-6324f76321ed",
   "metadata": {},
   "outputs": [
    {
     "data": {
      "text/html": [
       "<div>\n",
       "<style scoped>\n",
       "    .dataframe tbody tr th:only-of-type {\n",
       "        vertical-align: middle;\n",
       "    }\n",
       "\n",
       "    .dataframe tbody tr th {\n",
       "        vertical-align: top;\n",
       "    }\n",
       "\n",
       "    .dataframe thead th {\n",
       "        text-align: right;\n",
       "    }\n",
       "</style>\n",
       "<table border=\"1\" class=\"dataframe\">\n",
       "  <thead>\n",
       "    <tr style=\"text-align: right;\">\n",
       "      <th></th>\n",
       "      <th>Names</th>\n",
       "      <th>Exam1</th>\n",
       "      <th>Exam2</th>\n",
       "    </tr>\n",
       "  </thead>\n",
       "  <tbody>\n",
       "    <tr>\n",
       "      <th>3</th>\n",
       "      <td>Yashu</td>\n",
       "      <td>67</td>\n",
       "      <td>90.0</td>\n",
       "    </tr>\n",
       "    <tr>\n",
       "      <th>4</th>\n",
       "      <td>Preethi</td>\n",
       "      <td>78</td>\n",
       "      <td>NaN</td>\n",
       "    </tr>\n",
       "  </tbody>\n",
       "</table>\n",
       "</div>"
      ],
      "text/plain": [
       "     Names  Exam1  Exam2\n",
       "3    Yashu     67   90.0\n",
       "4  Preethi     78    NaN"
      ]
     },
     "execution_count": 47,
     "metadata": {},
     "output_type": "execute_result"
    }
   ],
   "source": [
    "df.tail(2)"
   ]
  },
  {
   "cell_type": "code",
   "execution_count": 48,
   "id": "8d716cf6-17cc-4f4a-9b7f-500e0c33d531",
   "metadata": {},
   "outputs": [
    {
     "data": {
      "text/plain": [
       "0    24\n",
       "1    45\n",
       "2    56\n",
       "3    67\n",
       "4    78\n",
       "Name: Exam1, dtype: int64"
      ]
     },
     "execution_count": 48,
     "metadata": {},
     "output_type": "execute_result"
    }
   ],
   "source": [
    "df['Exam1']"
   ]
  },
  {
   "cell_type": "code",
   "execution_count": 49,
   "id": "257eb070-4389-4f51-b559-c794fd8c03af",
   "metadata": {},
   "outputs": [
    {
     "data": {
      "text/plain": [
       "0    24\n",
       "1    45\n",
       "2    56\n",
       "3    67\n",
       "4    78\n",
       "Name: Exam1, dtype: int64"
      ]
     },
     "execution_count": 49,
     "metadata": {},
     "output_type": "execute_result"
    }
   ],
   "source": [
    "df.Exam1"
   ]
  },
  {
   "cell_type": "code",
   "execution_count": 50,
   "id": "bc72cb34-2870-477e-8be6-fd257994e5ed",
   "metadata": {},
   "outputs": [
    {
     "data": {
      "text/plain": [
       "56"
      ]
     },
     "execution_count": 50,
     "metadata": {},
     "output_type": "execute_result"
    }
   ],
   "source": [
    "df['Exam1'].iloc[2]"
   ]
  },
  {
   "cell_type": "code",
   "execution_count": 51,
   "id": "37fe66bd-c434-441f-a683-12c678734313",
   "metadata": {},
   "outputs": [
    {
     "data": {
      "text/plain": [
       "Exam1    45.0\n",
       "Exam2    56.0\n",
       "Name: 1, dtype: float64"
      ]
     },
     "execution_count": 51,
     "metadata": {},
     "output_type": "execute_result"
    }
   ],
   "source": [
    "df[['Exam1','Exam2']].iloc[1]"
   ]
  },
  {
   "cell_type": "code",
   "execution_count": 52,
   "id": "87ed6831-5244-4408-827e-fe73d53603a2",
   "metadata": {},
   "outputs": [
    {
     "data": {
      "text/plain": [
       "Names    0\n",
       "Exam1    0\n",
       "Exam2    1\n",
       "dtype: int64"
      ]
     },
     "execution_count": 52,
     "metadata": {},
     "output_type": "execute_result"
    }
   ],
   "source": [
    "df.isnull().sum()"
   ]
  },
  {
   "cell_type": "code",
   "execution_count": 53,
   "id": "82f4da26-3acf-4a0c-8554-6488e761b459",
   "metadata": {},
   "outputs": [
    {
     "data": {
      "text/html": [
       "<div>\n",
       "<style scoped>\n",
       "    .dataframe tbody tr th:only-of-type {\n",
       "        vertical-align: middle;\n",
       "    }\n",
       "\n",
       "    .dataframe tbody tr th {\n",
       "        vertical-align: top;\n",
       "    }\n",
       "\n",
       "    .dataframe thead th {\n",
       "        text-align: right;\n",
       "    }\n",
       "</style>\n",
       "<table border=\"1\" class=\"dataframe\">\n",
       "  <thead>\n",
       "    <tr style=\"text-align: right;\">\n",
       "      <th></th>\n",
       "      <th>Names</th>\n",
       "      <th>Exam1</th>\n",
       "      <th>Exam2</th>\n",
       "    </tr>\n",
       "  </thead>\n",
       "  <tbody>\n",
       "    <tr>\n",
       "      <th>0</th>\n",
       "      <td>Alex</td>\n",
       "      <td>24</td>\n",
       "      <td>34.0</td>\n",
       "    </tr>\n",
       "    <tr>\n",
       "      <th>1</th>\n",
       "      <td>chinnu</td>\n",
       "      <td>45</td>\n",
       "      <td>56.0</td>\n",
       "    </tr>\n",
       "    <tr>\n",
       "      <th>2</th>\n",
       "      <td>harshu</td>\n",
       "      <td>56</td>\n",
       "      <td>78.0</td>\n",
       "    </tr>\n",
       "    <tr>\n",
       "      <th>3</th>\n",
       "      <td>Yashu</td>\n",
       "      <td>67</td>\n",
       "      <td>90.0</td>\n",
       "    </tr>\n",
       "  </tbody>\n",
       "</table>\n",
       "</div>"
      ],
      "text/plain": [
       "    Names  Exam1  Exam2\n",
       "0    Alex     24   34.0\n",
       "1  chinnu     45   56.0\n",
       "2  harshu     56   78.0\n",
       "3   Yashu     67   90.0"
      ]
     },
     "execution_count": 53,
     "metadata": {},
     "output_type": "execute_result"
    }
   ],
   "source": [
    "df.dropna()"
   ]
  },
  {
   "cell_type": "code",
   "execution_count": 54,
   "id": "977db067-207b-43f3-99a1-aa168006d287",
   "metadata": {},
   "outputs": [
    {
     "data": {
      "text/html": [
       "<div>\n",
       "<style scoped>\n",
       "    .dataframe tbody tr th:only-of-type {\n",
       "        vertical-align: middle;\n",
       "    }\n",
       "\n",
       "    .dataframe tbody tr th {\n",
       "        vertical-align: top;\n",
       "    }\n",
       "\n",
       "    .dataframe thead th {\n",
       "        text-align: right;\n",
       "    }\n",
       "</style>\n",
       "<table border=\"1\" class=\"dataframe\">\n",
       "  <thead>\n",
       "    <tr style=\"text-align: right;\">\n",
       "      <th></th>\n",
       "      <th>Names</th>\n",
       "      <th>Exam1</th>\n",
       "      <th>Exam2</th>\n",
       "    </tr>\n",
       "  </thead>\n",
       "  <tbody>\n",
       "    <tr>\n",
       "      <th>0</th>\n",
       "      <td>Alex</td>\n",
       "      <td>24</td>\n",
       "      <td>34.0</td>\n",
       "    </tr>\n",
       "    <tr>\n",
       "      <th>1</th>\n",
       "      <td>chinnu</td>\n",
       "      <td>45</td>\n",
       "      <td>56.0</td>\n",
       "    </tr>\n",
       "    <tr>\n",
       "      <th>2</th>\n",
       "      <td>harshu</td>\n",
       "      <td>56</td>\n",
       "      <td>78.0</td>\n",
       "    </tr>\n",
       "    <tr>\n",
       "      <th>3</th>\n",
       "      <td>Yashu</td>\n",
       "      <td>67</td>\n",
       "      <td>90.0</td>\n",
       "    </tr>\n",
       "    <tr>\n",
       "      <th>4</th>\n",
       "      <td>Preethi</td>\n",
       "      <td>78</td>\n",
       "      <td>NaN</td>\n",
       "    </tr>\n",
       "  </tbody>\n",
       "</table>\n",
       "</div>"
      ],
      "text/plain": [
       "     Names  Exam1  Exam2\n",
       "0     Alex     24   34.0\n",
       "1   chinnu     45   56.0\n",
       "2   harshu     56   78.0\n",
       "3    Yashu     67   90.0\n",
       "4  Preethi     78    NaN"
      ]
     },
     "execution_count": 54,
     "metadata": {},
     "output_type": "execute_result"
    }
   ],
   "source": [
    "df"
   ]
  },
  {
   "cell_type": "code",
   "execution_count": 55,
   "id": "4d1e1c73-f7a5-423f-b283-2e119321b1af",
   "metadata": {},
   "outputs": [],
   "source": [
    "#drop a column"
   ]
  },
  {
   "cell_type": "code",
   "execution_count": 56,
   "id": "9bd2c316-1de4-4970-b172-d11773d4877d",
   "metadata": {},
   "outputs": [
    {
     "data": {
      "text/html": [
       "<div>\n",
       "<style scoped>\n",
       "    .dataframe tbody tr th:only-of-type {\n",
       "        vertical-align: middle;\n",
       "    }\n",
       "\n",
       "    .dataframe tbody tr th {\n",
       "        vertical-align: top;\n",
       "    }\n",
       "\n",
       "    .dataframe thead th {\n",
       "        text-align: right;\n",
       "    }\n",
       "</style>\n",
       "<table border=\"1\" class=\"dataframe\">\n",
       "  <thead>\n",
       "    <tr style=\"text-align: right;\">\n",
       "      <th></th>\n",
       "      <th>Names</th>\n",
       "      <th>Exam1</th>\n",
       "    </tr>\n",
       "  </thead>\n",
       "  <tbody>\n",
       "    <tr>\n",
       "      <th>0</th>\n",
       "      <td>Alex</td>\n",
       "      <td>24</td>\n",
       "    </tr>\n",
       "    <tr>\n",
       "      <th>1</th>\n",
       "      <td>chinnu</td>\n",
       "      <td>45</td>\n",
       "    </tr>\n",
       "    <tr>\n",
       "      <th>2</th>\n",
       "      <td>harshu</td>\n",
       "      <td>56</td>\n",
       "    </tr>\n",
       "    <tr>\n",
       "      <th>3</th>\n",
       "      <td>Yashu</td>\n",
       "      <td>67</td>\n",
       "    </tr>\n",
       "    <tr>\n",
       "      <th>4</th>\n",
       "      <td>Preethi</td>\n",
       "      <td>78</td>\n",
       "    </tr>\n",
       "  </tbody>\n",
       "</table>\n",
       "</div>"
      ],
      "text/plain": [
       "     Names  Exam1\n",
       "0     Alex     24\n",
       "1   chinnu     45\n",
       "2   harshu     56\n",
       "3    Yashu     67\n",
       "4  Preethi     78"
      ]
     },
     "execution_count": 56,
     "metadata": {},
     "output_type": "execute_result"
    }
   ],
   "source": [
    "df.drop(columns=['Exam2'])"
   ]
  },
  {
   "cell_type": "code",
   "execution_count": 57,
   "id": "093e9501-bb64-4951-9021-a71f6a68769c",
   "metadata": {},
   "outputs": [
    {
     "data": {
      "text/html": [
       "<div>\n",
       "<style scoped>\n",
       "    .dataframe tbody tr th:only-of-type {\n",
       "        vertical-align: middle;\n",
       "    }\n",
       "\n",
       "    .dataframe tbody tr th {\n",
       "        vertical-align: top;\n",
       "    }\n",
       "\n",
       "    .dataframe thead th {\n",
       "        text-align: right;\n",
       "    }\n",
       "</style>\n",
       "<table border=\"1\" class=\"dataframe\">\n",
       "  <thead>\n",
       "    <tr style=\"text-align: right;\">\n",
       "      <th></th>\n",
       "      <th>Names</th>\n",
       "      <th>Exam1</th>\n",
       "      <th>Exam2</th>\n",
       "    </tr>\n",
       "  </thead>\n",
       "  <tbody>\n",
       "    <tr>\n",
       "      <th>0</th>\n",
       "      <td>Alex</td>\n",
       "      <td>24</td>\n",
       "      <td>34.0</td>\n",
       "    </tr>\n",
       "    <tr>\n",
       "      <th>1</th>\n",
       "      <td>chinnu</td>\n",
       "      <td>45</td>\n",
       "      <td>56.0</td>\n",
       "    </tr>\n",
       "    <tr>\n",
       "      <th>2</th>\n",
       "      <td>harshu</td>\n",
       "      <td>56</td>\n",
       "      <td>78.0</td>\n",
       "    </tr>\n",
       "    <tr>\n",
       "      <th>3</th>\n",
       "      <td>Yashu</td>\n",
       "      <td>67</td>\n",
       "      <td>90.0</td>\n",
       "    </tr>\n",
       "    <tr>\n",
       "      <th>4</th>\n",
       "      <td>Preethi</td>\n",
       "      <td>78</td>\n",
       "      <td>NaN</td>\n",
       "    </tr>\n",
       "  </tbody>\n",
       "</table>\n",
       "</div>"
      ],
      "text/plain": [
       "     Names  Exam1  Exam2\n",
       "0     Alex     24   34.0\n",
       "1   chinnu     45   56.0\n",
       "2   harshu     56   78.0\n",
       "3    Yashu     67   90.0\n",
       "4  Preethi     78    NaN"
      ]
     },
     "execution_count": 57,
     "metadata": {},
     "output_type": "execute_result"
    }
   ],
   "source": [
    "df"
   ]
  },
  {
   "cell_type": "code",
   "execution_count": 58,
   "id": "40587c35-4fe0-4112-8da6-6c4c07fcecb4",
   "metadata": {},
   "outputs": [],
   "source": [
    "#filteration"
   ]
  },
  {
   "cell_type": "code",
   "execution_count": 59,
   "id": "de7864c0-6982-491b-a202-ece1017e36f8",
   "metadata": {},
   "outputs": [
    {
     "data": {
      "text/plain": [
       "2     harshu\n",
       "3      Yashu\n",
       "4    Preethi\n",
       "Name: Names, dtype: object"
      ]
     },
     "execution_count": 59,
     "metadata": {},
     "output_type": "execute_result"
    }
   ],
   "source": [
    "df[df['Exam1']>50]['Names']"
   ]
  },
  {
   "cell_type": "code",
   "execution_count": 60,
   "id": "e198b912-b219-441c-9921-19ee4e6a98fd",
   "metadata": {},
   "outputs": [],
   "source": [
    "#Sorting"
   ]
  },
  {
   "cell_type": "code",
   "execution_count": 61,
   "id": "4a488ab2-3715-4e9a-a133-ad2a964e86e7",
   "metadata": {},
   "outputs": [
    {
     "data": {
      "text/html": [
       "<div>\n",
       "<style scoped>\n",
       "    .dataframe tbody tr th:only-of-type {\n",
       "        vertical-align: middle;\n",
       "    }\n",
       "\n",
       "    .dataframe tbody tr th {\n",
       "        vertical-align: top;\n",
       "    }\n",
       "\n",
       "    .dataframe thead th {\n",
       "        text-align: right;\n",
       "    }\n",
       "</style>\n",
       "<table border=\"1\" class=\"dataframe\">\n",
       "  <thead>\n",
       "    <tr style=\"text-align: right;\">\n",
       "      <th></th>\n",
       "      <th>Names</th>\n",
       "      <th>Exam1</th>\n",
       "      <th>Exam2</th>\n",
       "    </tr>\n",
       "  </thead>\n",
       "  <tbody>\n",
       "    <tr>\n",
       "      <th>4</th>\n",
       "      <td>Preethi</td>\n",
       "      <td>78</td>\n",
       "      <td>NaN</td>\n",
       "    </tr>\n",
       "    <tr>\n",
       "      <th>3</th>\n",
       "      <td>Yashu</td>\n",
       "      <td>67</td>\n",
       "      <td>90.0</td>\n",
       "    </tr>\n",
       "    <tr>\n",
       "      <th>2</th>\n",
       "      <td>harshu</td>\n",
       "      <td>56</td>\n",
       "      <td>78.0</td>\n",
       "    </tr>\n",
       "    <tr>\n",
       "      <th>1</th>\n",
       "      <td>chinnu</td>\n",
       "      <td>45</td>\n",
       "      <td>56.0</td>\n",
       "    </tr>\n",
       "    <tr>\n",
       "      <th>0</th>\n",
       "      <td>Alex</td>\n",
       "      <td>24</td>\n",
       "      <td>34.0</td>\n",
       "    </tr>\n",
       "  </tbody>\n",
       "</table>\n",
       "</div>"
      ],
      "text/plain": [
       "     Names  Exam1  Exam2\n",
       "4  Preethi     78    NaN\n",
       "3    Yashu     67   90.0\n",
       "2   harshu     56   78.0\n",
       "1   chinnu     45   56.0\n",
       "0     Alex     24   34.0"
      ]
     },
     "execution_count": 61,
     "metadata": {},
     "output_type": "execute_result"
    }
   ],
   "source": [
    "df.sort_values(by=['Exam1'],ascending=False)"
   ]
  },
  {
   "cell_type": "code",
   "execution_count": 63,
   "id": "fadece4e-4cc0-4ee1-bd22-7777dcd6f8d2",
   "metadata": {},
   "outputs": [
    {
     "data": {
      "text/plain": [
       "3    90.0\n",
       "2    78.0\n",
       "1    56.0\n",
       "0    34.0\n",
       "4     NaN\n",
       "Name: Exam2, dtype: float64"
      ]
     },
     "execution_count": 63,
     "metadata": {},
     "output_type": "execute_result"
    }
   ],
   "source": [
    "df['Exam2'].sort_values(ascending=False)\n"
   ]
  },
  {
   "cell_type": "code",
   "execution_count": null,
   "id": "9f059088-9e05-4f9d-bd69-f104ca859479",
   "metadata": {},
   "outputs": [],
   "source": []
  }
 ],
 "metadata": {
  "kernelspec": {
   "display_name": "Python [conda env:base] *",
   "language": "python",
   "name": "conda-base-py"
  },
  "language_info": {
   "codemirror_mode": {
    "name": "ipython",
    "version": 3
   },
   "file_extension": ".py",
   "mimetype": "text/x-python",
   "name": "python",
   "nbconvert_exporter": "python",
   "pygments_lexer": "ipython3",
   "version": "3.12.7"
  }
 },
 "nbformat": 4,
 "nbformat_minor": 5
}
